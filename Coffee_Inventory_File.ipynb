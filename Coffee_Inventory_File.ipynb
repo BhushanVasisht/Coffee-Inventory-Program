{
  "nbformat": 4,
  "nbformat_minor": 0,
  "metadata": {
    "colab": {
      "name": "Coffee_Inventory_File.ipynb",
      "version": "0.3.2",
      "provenance": [],
      "collapsed_sections": [],
      "toc_visible": true
    },
    "kernelspec": {
      "name": "python3",
      "display_name": "Python 3"
    }
  },
  "cells": [
    {
      "metadata": {
        "id": "eINBzWAHy-Ut",
        "colab_type": "code",
        "colab": {}
      },
      "cell_type": "code",
      "source": [
        "#Create a name for the inventory file\n",
        "filename = 'coffee_inventory_in_storage.txt'\n",
        "\n",
        "#create a software inventory as a dictionary\n",
        "coffee_inventory = {}"
      ],
      "execution_count": 0,
      "outputs": []
    },
    {
      "metadata": {
        "id": "fWNSuVYDzXYT",
        "colab_type": "code",
        "colab": {}
      },
      "cell_type": "code",
      "source": [
        "#function to ask the owner all the details of coffee vrieties and thier quantities and write to a file\n",
        "def recordEntry():\n",
        "  fh = open(filename, 'w+')\n",
        "  while True:\n",
        "    inventorySize = int(input(\"Please Enter the number of varieties of coffee in the company at least 5: \"))\n",
        "    if(inventorySize >= 5):\n",
        "      break\n",
        "\n",
        "  for i in range(inventorySize):\n",
        "    coffeeName = input(\"Please enter the variety of the coffee sending to the storage: \")\n",
        "    if coffeeName in coffee_inventory:\n",
        "      print(\"The variety entered is already there. Please enter the variety again.\")\n",
        "    else:\n",
        "      coffeeQuantity = float(input(\"Please enter the quantity of the coffee in the storage in the order of Kilograms: \"))\n",
        "      record_string = coffeeName + '\\t' + str(coffeeQuantity) + '\\n'\n",
        "      fh.write(record_string)\n",
        "  \n",
        "  fh.close()\n",
        "      \n",
        "  "
      ],
      "execution_count": 0,
      "outputs": []
    },
    {
      "metadata": {
        "id": "3tO2wE3R5HzQ",
        "colab_type": "code",
        "colab": {}
      },
      "cell_type": "code",
      "source": [
        "#function to display records in the inventory file\n",
        "def displayRecords():\n",
        "  coffee ={}\n",
        "  f = open(filename, 'r')\n",
        "  \n",
        "  for line in f:\n",
        "    print(line)\n",
        "    line = line.split('\\t')\n",
        "    coffee[line[0]] = line[1].split('\\n')[0]\n",
        "  \n",
        "  f.close()\n",
        "  return coffee"
      ],
      "execution_count": 0,
      "outputs": []
    },
    {
      "metadata": {
        "id": "G0GPpbWy9X7X",
        "colab_type": "code",
        "colab": {}
      },
      "cell_type": "code",
      "source": [
        "#function to search for a specific record\n",
        "def searchRecord(cfName):\n",
        "  while True:\n",
        "    if cfName in coffee_inventory:\n",
        "      print(cfName,coffee_inventory[cfName])\n",
        "      break"
      ],
      "execution_count": 0,
      "outputs": []
    },
    {
      "metadata": {
        "id": "U8_Q0x5CBjh_",
        "colab_type": "code",
        "colab": {}
      },
      "cell_type": "code",
      "source": [
        "#function to modify records\n",
        "def modifyRecords(cfName, cfQuant):\n",
        "  if cfName in coffee_inventory:\n",
        "    coffee_inventory[cfName] = cfQuant\n",
        "    fh = open(filename, 'w+')\n",
        "    for i in coffee_inventory:\n",
        "      record_string = i + '\\t' + str(coffee_inventory[i]) + '\\n'\n",
        "      fh.write(record_string)\n",
        "    fh.close()\n",
        "  else:\n",
        "    print(\"Coffee variety not forund in records\")"
      ],
      "execution_count": 0,
      "outputs": []
    },
    {
      "metadata": {
        "id": "rNTZ0C6VCmxV",
        "colab_type": "code",
        "colab": {}
      },
      "cell_type": "code",
      "source": [
        "#function to delete a record\n",
        "def deleteRecord(key):\n",
        "  if key in coffee_inventory:\n",
        "    del coffee_inventory[key]\n",
        "    \n",
        "    fh = open(filename, 'w+')\n",
        "    for i in coffee_inventory:\n",
        "      record_string = i + '\\t' + str(coffee_inventory[i]) + '\\n'\n",
        "      fh.write(record_string)\n",
        "    fh.close()\n",
        "  else:\n",
        "    print(\"Coffee variety not forund in records\")"
      ],
      "execution_count": 0,
      "outputs": []
    },
    {
      "metadata": {
        "id": "DzYnckMFDK5k",
        "colab_type": "code",
        "colab": {
          "base_uri": "https://localhost:8080/",
          "height": 799
        },
        "outputId": "971b89a9-1d0a-4191-812d-ed95f966dd28"
      },
      "cell_type": "code",
      "source": [
        "# Actual Inventory Program using all the functions defined above\n",
        "\n",
        "\n",
        "# Ask the owner to enter the records\n",
        "recordEntry()\n",
        "\n",
        "#Display the entered records\n",
        "coffee_inventory = displayRecords()\n",
        "\n",
        "#Search for a specific record\n",
        "\n",
        "input_rec = input('Please enter the coffee variety you want to search in the inventory: ')\n",
        "searchRecord(input_rec)\n",
        "\n",
        "#modify two records\n",
        "for i in range(2):\n",
        "  inp = input(\"Please Enter the coffee variety to be modified: \")\n",
        "  inpQ = float(input(\"Please Enter the quantity to be replaced with: \"))\n",
        "  modifyRecords(inp, inpQ)\n",
        "\n",
        "#Display modified record inventory\n",
        "coffee_inventory = displayRecords()\n",
        "\n",
        "#delete a record\n",
        "inpdel = input(\"Please Enter the variety of the coffee that you wish to be deleted\")\n",
        "deleteRecord(inpdel)\n",
        "\n",
        "#display the new inventory list\n",
        "coffee_inventory = displayRecords()"
      ],
      "execution_count": 201,
      "outputs": [
        {
          "output_type": "stream",
          "text": [
            "Please Enter the number of varieties of coffee in the company at least 5: 5\n",
            "Please enter the variety of the coffee sending to the storage: A\n",
            "Please enter the quantity of the coffee in the storage in the order of Kilograms: 1\n",
            "Please enter the variety of the coffee sending to the storage: B\n",
            "Please enter the quantity of the coffee in the storage in the order of Kilograms: 2\n",
            "Please enter the variety of the coffee sending to the storage: C\n",
            "Please enter the quantity of the coffee in the storage in the order of Kilograms: 3\n",
            "Please enter the variety of the coffee sending to the storage: D\n",
            "Please enter the quantity of the coffee in the storage in the order of Kilograms: 4\n",
            "Please enter the variety of the coffee sending to the storage: E\n",
            "Please enter the quantity of the coffee in the storage in the order of Kilograms: 5\n",
            "A\t1.0\n",
            "\n",
            "B\t2.0\n",
            "\n",
            "C\t3.0\n",
            "\n",
            "D\t4.0\n",
            "\n",
            "E\t5.0\n",
            "\n",
            "Please enter the coffee variety you want to search in the inventory: A\n",
            "A 1.0\n",
            "Please Enter the coffee variety to be modified: E\n",
            "Please Enter the quantity to be replaced with: 10\n",
            "Please Enter the coffee variety to be modified: B\n",
            "Please Enter the quantity to be replaced with: 32\n",
            "A\t1.0\n",
            "\n",
            "B\t32.0\n",
            "\n",
            "C\t3.0\n",
            "\n",
            "D\t4.0\n",
            "\n",
            "E\t10.0\n",
            "\n",
            "Please Enter the variety of the coffee that you wish to be deletedD\n",
            "A\t1.0\n",
            "\n",
            "B\t32.0\n",
            "\n",
            "C\t3.0\n",
            "\n",
            "E\t10.0\n",
            "\n"
          ],
          "name": "stdout"
        }
      ]
    }
  ]
}